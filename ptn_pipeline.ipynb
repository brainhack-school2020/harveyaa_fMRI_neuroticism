{
 "cells": [
  {
   "cell_type": "code",
   "execution_count": 9,
   "metadata": {},
   "outputs": [],
   "source": [
    "import numpy as np\n",
    "import pandas as pd\n",
    "import matplotlib.pyplot as plt\n",
    "import seaborn as sns\n",
    "from nilearn import image, plotting\n",
    "from sklearn.metrics import mean_squared_error\n",
    "import ptn_script as ptn"
   ]
  },
  {
   "cell_type": "markdown",
   "metadata": {},
   "source": [
    "## 1. Load Data"
   ]
  },
  {
   "cell_type": "code",
   "execution_count": 7,
   "metadata": {},
   "outputs": [],
   "source": [
    "traits = pd.read_csv('all_traits.csv')\n",
    "neuroticism  = traits['NEOFAC_N'].to_numpy()\n",
    "netmats = np.loadtxt('netmats2_clean.txt',max_rows=3)\n",
    "#to load only a few subjects to test use max_rows=int and set\n",
    "neuroticism = neuroticism[:3]"
   ]
  },
  {
   "cell_type": "markdown",
   "metadata": {},
   "source": [
    "## 2. Try Models\n",
    "\n",
    "### 2.1 Connectome-based Predictive Modeling (CPM)\n",
    "https://www.ncbi.nlm.nih.gov/pmc/articles/PMC5526681/\n",
    "\n",
    "Takes the connectivity matrices and turns them into a one (or two) dimensional summary score based on the correlation of the edges with the behavioural metric being predicted and does a simple linear regression. Very simple method to use as baseline for prediction accuracy, but does not have much to interpret."
   ]
  },
  {
   "cell_type": "code",
   "execution_count": 8,
   "metadata": {},
   "outputs": [
    {
     "name": "stderr",
     "output_type": "stream",
     "text": [
      "/home/annabelle/miniconda3/lib/python3.7/site-packages/scipy/stats/stats.py:3508: PearsonRConstantInputWarning: An input array is constant; the correlation coefficent is not defined.\n",
      "  warnings.warn(PearsonRConstantInputWarning())\n"
     ]
    },
    {
     "name": "stdout",
     "output_type": "stream",
     "text": [
      "CPM fold:  0\n"
     ]
    },
    {
     "name": "stderr",
     "output_type": "stream",
     "text": [
      "/home/annabelle/miniconda3/lib/python3.7/site-packages/scipy/stats/stats.py:3508: PearsonRConstantInputWarning: An input array is constant; the correlation coefficent is not defined.\n",
      "  warnings.warn(PearsonRConstantInputWarning())\n",
      "/home/annabelle/miniconda3/lib/python3.7/site-packages/scipy/stats/stats.py:3508: PearsonRConstantInputWarning: An input array is constant; the correlation coefficent is not defined.\n",
      "  warnings.warn(PearsonRConstantInputWarning())\n"
     ]
    }
   ],
   "source": [
    "pred,edge_count = ptn.leave_one_out_CPM(netmats,neuroticism)"
   ]
  },
  {
   "cell_type": "code",
   "execution_count": 10,
   "metadata": {},
   "outputs": [],
   "source": [
    "MSE = [['combined',mean_squared_error(neuroticism,pred[:,0])],\n",
    "            ['positive',mean_squared_error(neuroticism,pred[:,1])],\n",
    "           ['negative',mean_squared_error(neuroticism,pred[:,2])],\n",
    "           ['multiple_reg',mean_squared_error(neuroticism,pred[:,3])]]"
   ]
  },
  {
   "cell_type": "code",
   "execution_count": 11,
   "metadata": {},
   "outputs": [
    {
     "name": "stdout",
     "output_type": "stream",
     "text": [
      "[['combined', 74.0], ['positive', 74.0], ['negative', 74.0], ['multiple_reg', 74.0]]\n"
     ]
    }
   ],
   "source": [
    "print(MSE)"
   ]
  },
  {
   "cell_type": "markdown",
   "metadata": {},
   "source": [
    "### 2.2 Vizualize connectomes\n",
    "\n",
    "issue: dont have labels of nodes! cannot make more meaningful plots or comparisons without edge labels"
   ]
  },
  {
   "cell_type": "code",
   "execution_count": null,
   "metadata": {},
   "outputs": [],
   "source": [
    "# ICA map\n",
    "path2 = './HCP_PTN1200_recon2/groupICA_3T_HCP1200_MSMAll/groupICA/groupICA_3T_HCP1200_MSMAll_d200.ica/{}'\n",
    "#ICA_map = image.load_img(path2.format('melodic_IC_sum.nii'))\n",
    "coords = plotting.find_probabilistic_atlas_cut_coords(ICA_map)"
   ]
  },
  {
   "cell_type": "code",
   "execution_count": null,
   "metadata": {},
   "outputs": [],
   "source": [
    "#find most extreme values of scores in full 810 sample\n",
    "scores_total = np.matmul(netmats,mask)\n",
    "pos_scores_total = np.matmul(netmats,pos_mask)\n",
    "neg_scores_total = np.matmul(netmats,neg_mask)\n",
    "\n",
    "min_scores = scores_total.argmin()\n",
    "max_scores = scores_total.argmax()\n",
    "\n",
    "min_pos = pos_scores_total.argmin()\n",
    "max_pos = pos_scores_total.argmax()\n",
    "\n",
    "min_neg = neg_scores_total.argmin()\n",
    "max_neg = neg_scores_total.argmax()"
   ]
  },
  {
   "cell_type": "code",
   "execution_count": null,
   "metadata": {},
   "outputs": [],
   "source": [
    "mean = netmats.mean(axis=0).reshape(-1,200)"
   ]
  },
  {
   "cell_type": "code",
   "execution_count": null,
   "metadata": {},
   "outputs": [],
   "source": [
    "#average connectome of all subjects\n",
    "view = plotting.view_connectome(mean, coords, edge_cmap = 'Spectral',edge_threshold = 8)\n",
    "view"
   ]
  },
  {
   "cell_type": "code",
   "execution_count": null,
   "metadata": {},
   "outputs": [],
   "source": [
    "#connectome of subject with very high neuroticism (max negative score)\n",
    "view = plotting.view_connectome(netmats[max_neg].reshape(-1,200), coords, edge_cmap = 'Spectral',edge_threshold = 8)\n",
    "view"
   ]
  },
  {
   "cell_type": "code",
   "execution_count": null,
   "metadata": {},
   "outputs": [],
   "source": [
    "#connectome of subject with low neuroticism (minimum positive score)\n",
    "view = plotting.view_connectome(netmats[min_pos].reshape(-1,200), coords, edge_cmap = 'Spectral',edge_threshold = 8)\n",
    "view"
   ]
  },
  {
   "cell_type": "code",
   "execution_count": null,
   "metadata": {},
   "outputs": [],
   "source": []
  }
 ],
 "metadata": {
  "kernelspec": {
   "display_name": "Python 3",
   "language": "python",
   "name": "python3"
  },
  "language_info": {
   "codemirror_mode": {
    "name": "ipython",
    "version": 3
   },
   "file_extension": ".py",
   "mimetype": "text/x-python",
   "name": "python",
   "nbconvert_exporter": "python",
   "pygments_lexer": "ipython3",
   "version": "3.7.6"
  }
 },
 "nbformat": 4,
 "nbformat_minor": 4
}
